{
 "cells": [
  {
   "cell_type": "markdown",
   "id": "9982bcd2",
   "metadata": {},
   "source": [
    "# created by hussainatphysics@gmail.com(hussainsha syed)\n",
    "here we perfom Decission-tree regression and we also do Linear and polynomial regression to conclude which is better"
   ]
  },
  {
   "cell_type": "markdown",
   "id": "26adea66",
   "metadata": {},
   "source": [
    "# Importing Libraries"
   ]
  },
  {
   "cell_type": "code",
   "execution_count": 1,
   "id": "8f3746b1",
   "metadata": {},
   "outputs": [],
   "source": [
    "import numpy as np\n",
    "import pandas as pd\n",
    "import matplotlib.pyplot as plt"
   ]
  },
  {
   "cell_type": "markdown",
   "id": "12f505d3",
   "metadata": {},
   "source": [
    "# Importing Dataset"
   ]
  },
  {
   "cell_type": "code",
   "execution_count": 2,
   "id": "ba3d23be",
   "metadata": {},
   "outputs": [],
   "source": [
    "loadData = pd.read_csv(\"C:\\\\Users\\\\HussainSha\\\\ML_forGithub\\\\Decission_tree_regressor\\\\deiccion-tree-regression.csv\")"
   ]
  },
  {
   "cell_type": "code",
   "execution_count": 3,
   "id": "1007fe07",
   "metadata": {},
   "outputs": [],
   "source": [
    "x= loadData.drop('Y', axis='columns')"
   ]
  },
  {
   "cell_type": "code",
   "execution_count": 4,
   "id": "8595047f",
   "metadata": {},
   "outputs": [],
   "source": [
    "y = loadData.drop(\"X\", axis= 'columns')"
   ]
  },
  {
   "cell_type": "markdown",
   "id": "bf8cfa84",
   "metadata": {},
   "source": [
    "# visualization for the dataset"
   ]
  },
  {
   "cell_type": "code",
   "execution_count": 5,
   "id": "8c03c3fd",
   "metadata": {},
   "outputs": [
    {
     "data": {
      "image/png": "[encoded data removed]",
      "text/plain": [
       "<Figure size 432x288 with 1 Axes>"
      ]
     },
     "metadata": {
      "needs_background": "light"
     },
     "output_type": "display_data"
    }
   ],
   "source": [
    "plt.scatter(x,y)\n",
    "plt.plot(x,y)\n",
    "plt.xlabel('X-axis')\n",
    "plt.ylabel('Y-axis')\n",
    "plt.show()"
   ]
  },
  {
   "cell_type": "markdown",
   "id": "ab8c05c4",
   "metadata": {},
   "source": [
    "# from the above graph it is non-linear "
   ]
  },
  {
   "cell_type": "markdown",
   "id": "c92fbe8e",
   "metadata": {},
   "source": [
    "#  Decission tress regressor"
   ]
  },
  {
   "cell_type": "code",
   "execution_count": 6,
   "id": "33d9a68a",
   "metadata": {},
   "outputs": [],
   "source": [
    "from sklearn.tree import DecisionTreeRegressor"
   ]
  },
  {
   "cell_type": "code",
   "execution_count": 7,
   "id": "b53ea678",
   "metadata": {},
   "outputs": [],
   "source": [
    "dec_reg = DecisionTreeRegressor()"
   ]
  },
  {
   "cell_type": "code",
   "execution_count": 8,
   "id": "0608c0a7",
   "metadata": {},
   "outputs": [
    {
     "data": {
      "text/plain": [
       "DecisionTreeRegressor()"
      ]
     },
     "execution_count": 8,
     "metadata": {},
     "output_type": "execute_result"
    }
   ],
   "source": [
    "dec_reg.fit(x,y)"
   ]
  },
  {
   "cell_type": "code",
   "execution_count": 9,
   "id": "3f0a7f3b",
   "metadata": {},
   "outputs": [],
   "source": [
    "pred = dec_reg.predict(x)"
   ]
  },
  {
   "cell_type": "markdown",
   "id": "f8196006",
   "metadata": {},
   "source": [
    "# visulazing predicted outcome"
   ]
  },
  {
   "cell_type": "code",
   "execution_count": 10,
   "id": "90cdd439",
   "metadata": {},
   "outputs": [
    {
     "data": {
      "image/png": "[encoded data removed]",
      "text/plain": [
       "<Figure size 432x288 with 1 Axes>"
      ]
     },
     "metadata": {
      "needs_background": "light"
     },
     "output_type": "display_data"
    }
   ],
   "source": [
    "plt.scatter(x,pred)\n",
    "plt.plot(x,pred)\n",
    "plt.xlabel('X-axis')\n",
    "plt.ylabel('Y-axis')\n",
    "plt.show()"
   ]
  },
  {
   "cell_type": "code",
   "execution_count": 11,
   "id": "05c6f833",
   "metadata": {},
   "outputs": [],
   "source": [
    "from sklearn.metrics import mean_squared_error"
   ]
  },
  {
   "cell_type": "code",
   "execution_count": 12,
   "id": "0a900d6f",
   "metadata": {},
   "outputs": [
    {
     "name": "stdout",
     "output_type": "stream",
     "text": [
      "RMSE of Decission tress regressor 0.0\n"
     ]
    }
   ],
   "source": [
    "print(\"RMSE of Decission tress regressor\", np.sqrt(mean_squared_error(pred, y)))"
   ]
  },
  {
   "cell_type": "code",
   "execution_count": 13,
   "id": "5b984053",
   "metadata": {},
   "outputs": [
    {
     "data": {
      "text/plain": [
       "1.0"
      ]
     },
     "execution_count": 13,
     "metadata": {},
     "output_type": "execute_result"
    }
   ],
   "source": [
    "dec_reg.score(x,y)"
   ]
  },
  {
   "cell_type": "markdown",
   "id": "fe88cac3",
   "metadata": {},
   "source": [
    "# polynomial regressor"
   ]
  },
  {
   "cell_type": "code",
   "execution_count": 14,
   "id": "2e10057f",
   "metadata": {},
   "outputs": [],
   "source": [
    "from sklearn.preprocessing import PolynomialFeatures"
   ]
  },
  {
   "cell_type": "code",
   "execution_count": 15,
   "id": "d2c60db7",
   "metadata": {},
   "outputs": [],
   "source": [
    "poly_reg = PolynomialFeatures()"
   ]
  },
  {
   "cell_type": "code",
   "execution_count": 16,
   "id": "995dbdf3",
   "metadata": {},
   "outputs": [],
   "source": [
    "x_ = poly_reg.fit_transform(x)"
   ]
  },
  {
   "cell_type": "code",
   "execution_count": 18,
   "id": "b888546e",
   "metadata": {},
   "outputs": [],
   "source": [
    "from sklearn.linear_model import LinearRegression"
   ]
  },
  {
   "cell_type": "code",
   "execution_count": 19,
   "id": "fd03ab85",
   "metadata": {},
   "outputs": [],
   "source": [
    "lin_reg= LinearRegression()"
   ]
  },
  {
   "cell_type": "code",
   "execution_count": 20,
   "id": "39dfac62",
   "metadata": {},
   "outputs": [
    {
     "data": {
      "text/plain": [
       "LinearRegression()"
      ]
     },
     "execution_count": 20,
     "metadata": {},
     "output_type": "execute_result"
    }
   ],
   "source": [
    "lin_reg.fit(x_,y)"
   ]
  },
  {
   "cell_type": "code",
   "execution_count": 21,
   "id": "4a70dd93",
   "metadata": {},
   "outputs": [],
   "source": [
    "poly_pred = lin_reg.predict(x_)"
   ]
  },
  {
   "cell_type": "markdown",
   "id": "f2d042a6",
   "metadata": {},
   "source": [
    "# Visulizing Polynomial regression"
   ]
  },
  {
   "cell_type": "code",
   "execution_count": 23,
   "id": "39faf216",
   "metadata": {},
   "outputs": [],
   "source": [
    "df = pd.DataFrame(x_)"
   ]
  },
  {
   "cell_type": "code",
   "execution_count": 24,
   "id": "1fc0e967",
   "metadata": {},
   "outputs": [
    {
     "data": {
      "text/html": [
       "<div>\n",
       "<style scoped>\n",
       "    .dataframe tbody tr th:only-of-type {\n",
       "        vertical-align: middle;\n",
       "    }\n",
       "\n",
       "    .dataframe tbody tr th {\n",
       "        vertical-align: top;\n",
       "    }\n",
       "\n",
       "    .dataframe thead th {\n",
       "        text-align: right;\n",
       "    }\n",
       "</style>\n",
       "<table border=\"1\" class=\"dataframe\">\n",
       "  <thead>\n",
       "    <tr style=\"text-align: right;\">\n",
       "      <th></th>\n",
       "      <th>0</th>\n",
       "      <th>1</th>\n",
       "      <th>2</th>\n",
       "    </tr>\n",
       "  </thead>\n",
       "  <tbody>\n",
       "    <tr>\n",
       "      <th>0</th>\n",
       "      <td>1.0</td>\n",
       "      <td>60.0</td>\n",
       "      <td>3600.0</td>\n",
       "    </tr>\n",
       "    <tr>\n",
       "      <th>1</th>\n",
       "      <td>1.0</td>\n",
       "      <td>70.0</td>\n",
       "      <td>4900.0</td>\n",
       "    </tr>\n",
       "    <tr>\n",
       "      <th>2</th>\n",
       "      <td>1.0</td>\n",
       "      <td>80.0</td>\n",
       "      <td>6400.0</td>\n",
       "    </tr>\n",
       "    <tr>\n",
       "      <th>3</th>\n",
       "      <td>1.0</td>\n",
       "      <td>100.0</td>\n",
       "      <td>10000.0</td>\n",
       "    </tr>\n",
       "    <tr>\n",
       "      <th>4</th>\n",
       "      <td>1.0</td>\n",
       "      <td>120.0</td>\n",
       "      <td>14400.0</td>\n",
       "    </tr>\n",
       "    <tr>\n",
       "      <th>5</th>\n",
       "      <td>1.0</td>\n",
       "      <td>150.0</td>\n",
       "      <td>22500.0</td>\n",
       "    </tr>\n",
       "    <tr>\n",
       "      <th>6</th>\n",
       "      <td>1.0</td>\n",
       "      <td>200.0</td>\n",
       "      <td>40000.0</td>\n",
       "    </tr>\n",
       "    <tr>\n",
       "      <th>7</th>\n",
       "      <td>1.0</td>\n",
       "      <td>250.0</td>\n",
       "      <td>62500.0</td>\n",
       "    </tr>\n",
       "    <tr>\n",
       "      <th>8</th>\n",
       "      <td>1.0</td>\n",
       "      <td>300.0</td>\n",
       "      <td>90000.0</td>\n",
       "    </tr>\n",
       "    <tr>\n",
       "      <th>9</th>\n",
       "      <td>1.0</td>\n",
       "      <td>400.0</td>\n",
       "      <td>160000.0</td>\n",
       "    </tr>\n",
       "    <tr>\n",
       "      <th>10</th>\n",
       "      <td>1.0</td>\n",
       "      <td>500.0</td>\n",
       "      <td>250000.0</td>\n",
       "    </tr>\n",
       "    <tr>\n",
       "      <th>11</th>\n",
       "      <td>1.0</td>\n",
       "      <td>750.0</td>\n",
       "      <td>562500.0</td>\n",
       "    </tr>\n",
       "    <tr>\n",
       "      <th>12</th>\n",
       "      <td>1.0</td>\n",
       "      <td>1000.0</td>\n",
       "      <td>1000000.0</td>\n",
       "    </tr>\n",
       "    <tr>\n",
       "      <th>13</th>\n",
       "      <td>1.0</td>\n",
       "      <td>2000.0</td>\n",
       "      <td>4000000.0</td>\n",
       "    </tr>\n",
       "    <tr>\n",
       "      <th>14</th>\n",
       "      <td>1.0</td>\n",
       "      <td>3000.0</td>\n",
       "      <td>9000000.0</td>\n",
       "    </tr>\n",
       "  </tbody>\n",
       "</table>\n",
       "</div>"
      ],
      "text/plain": [
       "      0       1          2\n",
       "0   1.0    60.0     3600.0\n",
       "1   1.0    70.0     4900.0\n",
       "2   1.0    80.0     6400.0\n",
       "3   1.0   100.0    10000.0\n",
       "4   1.0   120.0    14400.0\n",
       "5   1.0   150.0    22500.0\n",
       "6   1.0   200.0    40000.0\n",
       "7   1.0   250.0    62500.0\n",
       "8   1.0   300.0    90000.0\n",
       "9   1.0   400.0   160000.0\n",
       "10  1.0   500.0   250000.0\n",
       "11  1.0   750.0   562500.0\n",
       "12  1.0  1000.0  1000000.0\n",
       "13  1.0  2000.0  4000000.0\n",
       "14  1.0  3000.0  9000000.0"
      ]
     },
     "execution_count": 24,
     "metadata": {},
     "output_type": "execute_result"
    }
   ],
   "source": [
    "df"
   ]
  },
  {
   "cell_type": "code",
   "execution_count": 25,
   "id": "709b658b",
   "metadata": {},
   "outputs": [
    {
     "data": {
      "image/png": "[encoded data removed]",
      "text/plain": [
       "<Figure size 432x288 with 1 Axes>"
      ]
     },
     "metadata": {
      "needs_background": "light"
     },
     "output_type": "display_data"
    }
   ],
   "source": [
    "plt.scatter(df[2],poly_pred)\n",
    "plt.plot(df[2],poly_pred)\n",
    "plt.xlabel('X-axis')\n",
    "plt.ylabel('Y-axis')\n",
    "plt.show()"
   ]
  },
  {
   "cell_type": "code",
   "execution_count": 26,
   "id": "d9b00beb",
   "metadata": {},
   "outputs": [
    {
     "name": "stdout",
     "output_type": "stream",
     "text": [
      "RMSE of polynomial regression is 32.50324241492819\n"
     ]
    }
   ],
   "source": [
    "print(\"RMSE of polynomial regression is\", np.sqrt(mean_squared_error(y, poly_pred)))"
   ]
  },
  {
   "cell_type": "code",
   "execution_count": 27,
   "id": "65caf62a",
   "metadata": {},
   "outputs": [
    {
     "data": {
      "text/plain": [
       "0.81088099873991"
      ]
     },
     "execution_count": 27,
     "metadata": {},
     "output_type": "execute_result"
    }
   ],
   "source": [
    "lin_reg.score(x_, y)"
   ]
  },
  {
   "cell_type": "markdown",
   "id": "b6d5f7da",
   "metadata": {},
   "source": [
    "#  Linear regressor"
   ]
  },
  {
   "cell_type": "code",
   "execution_count": 28,
   "id": "edead30c",
   "metadata": {},
   "outputs": [
    {
     "data": {
      "text/plain": [
       "LinearRegression()"
      ]
     },
     "execution_count": 28,
     "metadata": {},
     "output_type": "execute_result"
    }
   ],
   "source": [
    "lin_reg.fit(x,y)"
   ]
  },
  {
   "cell_type": "code",
   "execution_count": 29,
   "id": "b5cfc7a6",
   "metadata": {},
   "outputs": [],
   "source": [
    "lin_pred = lin_reg.predict(x)"
   ]
  },
  {
   "cell_type": "markdown",
   "id": "b4206ef3",
   "metadata": {},
   "source": [
    " # Visulazing linear regression predicted "
   ]
  },
  {
   "cell_type": "code",
   "execution_count": 30,
   "id": "55828b1a",
   "metadata": {},
   "outputs": [
    {
     "data": {
      "image/png": "[encoded data removed]",
      "text/plain": [
       "<Figure size 432x288 with 1 Axes>"
      ]
     },
     "metadata": {
      "needs_background": "light"
     },
     "output_type": "display_data"
    }
   ],
   "source": [
    "plt.scatter(x,lin_pred)\n",
    "plt.plot(x,lin_pred)\n",
    "plt.xlabel('X-axis')\n",
    "plt.ylabel('Y-axis')\n",
    "plt.show()"
   ]
  },
  {
   "cell_type": "code",
   "execution_count": 31,
   "id": "267a5a0e",
   "metadata": {},
   "outputs": [
    {
     "name": "stdout",
     "output_type": "stream",
     "text": [
      "RMSE of linear regression is 54.176559565858376\n"
     ]
    }
   ],
   "source": [
    "print(\"RMSE of linear regression is\", np.sqrt(mean_squared_error(y, lin_pred)))"
   ]
  },
  {
   "cell_type": "code",
   "execution_count": 32,
   "id": "ca91d751",
   "metadata": {},
   "outputs": [
    {
     "data": {
      "text/plain": [
       "0.4745823761330058"
      ]
     },
     "execution_count": 32,
     "metadata": {},
     "output_type": "execute_result"
    }
   ],
   "source": [
    "lin_reg.score(x, y)"
   ]
  },
  {
   "cell_type": "markdown",
   "id": "86b1c1b4",
   "metadata": {},
   "source": [
    "# conclussion : dession Tree: RMSE(0), score(1); Polynomial: RMSE(32.50324241492819), score(0.81088099873991); Linear reg: RMSE (54.176559565858376), score(0.4745823761330058)"
   ]
  },
  {
   "cell_type": "markdown",
   "id": "9be0db3e",
   "metadata": {},
   "source": [
    "# therefore Decission tree is much better than poly and linear regression"
   ]
  },
  {
   "cell_type": "code",
   "execution_count": null,
   "id": "1545bf3f",
   "metadata": {},
   "outputs": [],
   "source": []
  }
 ],
 "metadata": {
  "kernelspec": {
   "display_name": "Python 3",
   "language": "python",
   "name": "python3"
  },
  "language_info": {
   "codemirror_mode": {
    "name": "ipython",
    "version": 3
   },
   "file_extension": ".py",
   "mimetype": "text/x-python",
   "name": "python",
   "nbconvert_exporter": "python",
   "pygments_lexer": "ipython3",
   "version": "3.8.8"
  }
 },
 "nbformat": 4,
 "nbformat_minor": 5
}
